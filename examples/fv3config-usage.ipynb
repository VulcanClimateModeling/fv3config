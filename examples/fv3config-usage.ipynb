{
 "cells": [
  {
   "cell_type": "markdown",
   "metadata": {},
   "source": [
    "This notebooks demonstrates basic usage of the fv3config package by doing two sequential 1-hour runs. It assumes that fv3config has been installed and that a docker image of fv3gfs-compiled-default is locally available."
   ]
  },
  {
   "cell_type": "code",
   "execution_count": 1,
   "metadata": {},
   "outputs": [],
   "source": [
    "import fv3config\n",
    "import os\n",
    "import shutil\n",
    "import subprocess\n",
    "from copy import deepcopy"
   ]
  },
  {
   "cell_type": "code",
   "execution_count": 2,
   "metadata": {},
   "outputs": [],
   "source": [
    "model_image = 'fv3gfs-compiled-default'\n",
    "archive = '/home/OliWM/.local/share/fv3gfs/archive'"
   ]
  },
  {
   "cell_type": "code",
   "execution_count": 3,
   "metadata": {},
   "outputs": [],
   "source": [
    "def run_model(rundir, model_image, mounts):\n",
    "    rundir_abs = os.path.abspath(rundir)\n",
    "    rundir_mount = ['-v', f'{rundir_abs}:/FV3/rundir']\n",
    "    run_command = ['docker', 'run', '--rm'] + rundir_mount + mounts + [model_image]\n",
    "    fv3out = os.path.join(rundir, 'fv3out')\n",
    "    fv3err = os.path.join(rundir, 'fv3err')\n",
    "    with open(fv3out, 'w') as out, open(fv3err, 'w') as err:\n",
    "        subprocess.call(run_command, stdout=out, stderr=err)"
   ]
  },
  {
   "cell_type": "markdown",
   "metadata": {},
   "source": [
    "#### fv3config can provide a default configuration dict"
   ]
  },
  {
   "cell_type": "code",
   "execution_count": 4,
   "metadata": {},
   "outputs": [
    {
     "data": {
      "text/plain": [
       "['namelist',\n",
       " 'diag_table',\n",
       " 'data_table',\n",
       " 'forcing',\n",
       " 'initial_conditions',\n",
       " 'experiment_name']"
      ]
     },
     "execution_count": 4,
     "metadata": {},
     "output_type": "execute_result"
    }
   ],
   "source": [
    "initial_config = fv3config.get_default_config()\n",
    "list(initial_config.keys())"
   ]
  },
  {
   "cell_type": "code",
   "execution_count": 5,
   "metadata": {},
   "outputs": [
    {
     "data": {
      "text/plain": [
       "Namelist([('months', 0),\n",
       "          ('days', 0),\n",
       "          ('hours', 0),\n",
       "          ('minutes', 30),\n",
       "          ('seconds', 0),\n",
       "          ('dt_atmos', 900),\n",
       "          ('dt_ocean', 900),\n",
       "          ('current_date', [2016, 8, 1, 0, 0, 0]),\n",
       "          ('calendar', 'julian'),\n",
       "          ('memuse_verbose', True),\n",
       "          ('atmos_nthreads', 1),\n",
       "          ('use_hyper_thread', True),\n",
       "          ('ncores_per_node', 32)])"
      ]
     },
     "execution_count": 5,
     "metadata": {},
     "output_type": "execute_result"
    }
   ],
   "source": [
    "initial_config['namelist']['coupler_nml']"
   ]
  },
  {
   "cell_type": "code",
   "execution_count": 6,
   "metadata": {},
   "outputs": [
    {
     "data": {
      "text/plain": [
       "'default'"
      ]
     },
     "execution_count": 6,
     "metadata": {},
     "output_type": "execute_result"
    }
   ],
   "source": [
    "initial_config['diag_table']"
   ]
  },
  {
   "cell_type": "markdown",
   "metadata": {},
   "source": [
    "Built-in options for diag_table are 'default', 'grid_spec' and 'no_output'. You can specify your own custom diag_table by using an absolute path:"
   ]
  },
  {
   "cell_type": "code",
   "execution_count": 7,
   "metadata": {},
   "outputs": [],
   "source": [
    "initial_config['diag_table'] = os.path.abspath('diag_table_for_example_nb')"
   ]
  },
  {
   "cell_type": "markdown",
   "metadata": {},
   "source": [
    "#### Change length of run to one hour"
   ]
  },
  {
   "cell_type": "code",
   "execution_count": 8,
   "metadata": {},
   "outputs": [],
   "source": [
    "initial_config['namelist']['coupler_nml']['hours'] = 1\n",
    "initial_config['namelist']['coupler_nml']['minutes'] = 0"
   ]
  },
  {
   "cell_type": "markdown",
   "metadata": {},
   "source": [
    "#### Write run directory and copy in submit_job.sh script"
   ]
  },
  {
   "cell_type": "code",
   "execution_count": 9,
   "metadata": {},
   "outputs": [
    {
     "ename": "DataMissingError",
     "evalue": "Required data for running fv3gfs not available. Try python -m fv3config.download_data or ensure_data_is_downloaded()",
     "output_type": "error",
     "traceback": [
      "\u001b[0;31m---------------------------------------------------------------------------\u001b[0m",
      "\u001b[0;31mDataMissingError\u001b[0m                          Traceback (most recent call last)",
      "\u001b[0;32m<ipython-input-9-3f2e76303281>\u001b[0m in \u001b[0;36m<module>\u001b[0;34m\u001b[0m\n\u001b[1;32m      1\u001b[0m \u001b[0minitial_rundir\u001b[0m \u001b[0;34m=\u001b[0m \u001b[0;34m'./initial_rundir'\u001b[0m\u001b[0;34m\u001b[0m\u001b[0;34m\u001b[0m\u001b[0m\n\u001b[0;32m----> 2\u001b[0;31m \u001b[0mfv3config\u001b[0m\u001b[0;34m.\u001b[0m\u001b[0mwrite_run_directory\u001b[0m\u001b[0;34m(\u001b[0m\u001b[0minitial_config\u001b[0m\u001b[0;34m,\u001b[0m \u001b[0minitial_rundir\u001b[0m\u001b[0;34m)\u001b[0m\u001b[0;34m\u001b[0m\u001b[0;34m\u001b[0m\u001b[0m\n\u001b[0m\u001b[1;32m      3\u001b[0m \u001b[0mshutil\u001b[0m\u001b[0;34m.\u001b[0m\u001b[0mcopy\u001b[0m\u001b[0;34m(\u001b[0m\u001b[0;34m'submit_job.sh'\u001b[0m\u001b[0;34m,\u001b[0m \u001b[0mos\u001b[0m\u001b[0;34m.\u001b[0m\u001b[0mpath\u001b[0m\u001b[0;34m.\u001b[0m\u001b[0mjoin\u001b[0m\u001b[0;34m(\u001b[0m\u001b[0minitial_rundir\u001b[0m\u001b[0;34m,\u001b[0m \u001b[0;34m'submit_job.sh'\u001b[0m\u001b[0;34m)\u001b[0m\u001b[0;34m)\u001b[0m\u001b[0;34m;\u001b[0m\u001b[0;34m\u001b[0m\u001b[0;34m\u001b[0m\u001b[0m\n",
      "\u001b[0;32m~/repos/fv3config/fv3config/_config.py\u001b[0m in \u001b[0;36mwrite_run_directory\u001b[0;34m(config, target_directory)\u001b[0m\n\u001b[1;32m     72\u001b[0m         \u001b[0mtarget_directory\u001b[0m \u001b[0;34m(\u001b[0m\u001b[0mstr\u001b[0m\u001b[0;34m)\u001b[0m\u001b[0;34m:\u001b[0m \u001b[0mtarget\u001b[0m \u001b[0mdirectory\u001b[0m\u001b[0;34m,\u001b[0m \u001b[0mwill\u001b[0m \u001b[0mbe\u001b[0m \u001b[0mcreated\u001b[0m \u001b[0;32mif\u001b[0m \u001b[0mit\u001b[0m \u001b[0malready\u001b[0m \u001b[0mexists\u001b[0m\u001b[0;34m\u001b[0m\u001b[0;34m\u001b[0m\u001b[0m\n\u001b[1;32m     73\u001b[0m     \"\"\"\n\u001b[0;32m---> 74\u001b[0;31m     \u001b[0mcheck_if_data_is_downloaded\u001b[0m\u001b[0;34m(\u001b[0m\u001b[0;34m)\u001b[0m\u001b[0;34m\u001b[0m\u001b[0;34m\u001b[0m\u001b[0m\n\u001b[0m\u001b[1;32m     75\u001b[0m     \u001b[0minput_directory\u001b[0m \u001b[0;34m=\u001b[0m \u001b[0mos\u001b[0m\u001b[0;34m.\u001b[0m\u001b[0mpath\u001b[0m\u001b[0;34m.\u001b[0m\u001b[0mjoin\u001b[0m\u001b[0;34m(\u001b[0m\u001b[0mtarget_directory\u001b[0m\u001b[0;34m,\u001b[0m \u001b[0;34m'INPUT'\u001b[0m\u001b[0;34m)\u001b[0m\u001b[0;34m\u001b[0m\u001b[0;34m\u001b[0m\u001b[0m\n\u001b[1;32m     76\u001b[0m     \u001b[0mrestart_directory\u001b[0m \u001b[0;34m=\u001b[0m \u001b[0mos\u001b[0m\u001b[0;34m.\u001b[0m\u001b[0mpath\u001b[0m\u001b[0;34m.\u001b[0m\u001b[0mjoin\u001b[0m\u001b[0;34m(\u001b[0m\u001b[0mtarget_directory\u001b[0m\u001b[0;34m,\u001b[0m \u001b[0;34m'RESTART'\u001b[0m\u001b[0;34m)\u001b[0m\u001b[0;34m\u001b[0m\u001b[0;34m\u001b[0m\u001b[0m\n",
      "\u001b[0;32m~/repos/fv3config/fv3config/_datastore.py\u001b[0m in \u001b[0;36mcheck_if_data_is_downloaded\u001b[0;34m()\u001b[0m\n\u001b[1;32m    126\u001b[0m     \u001b[0;32mif\u001b[0m \u001b[0;32mnot\u001b[0m \u001b[0mos\u001b[0m\u001b[0;34m.\u001b[0m\u001b[0mpath\u001b[0m\u001b[0;34m.\u001b[0m\u001b[0misdir\u001b[0m\u001b[0;34m(\u001b[0m\u001b[0mlocal_archive_dir\u001b[0m\u001b[0;34m)\u001b[0m\u001b[0;34m:\u001b[0m\u001b[0;34m\u001b[0m\u001b[0;34m\u001b[0m\u001b[0m\n\u001b[1;32m    127\u001b[0m         raise DataMissingError(\n\u001b[0;32m--> 128\u001b[0;31m             \u001b[0;34mf'Required data for running fv3gfs not available. Try python -m fv3config.download_data or ensure_data_is_downloaded()'\u001b[0m\u001b[0;34m\u001b[0m\u001b[0;34m\u001b[0m\u001b[0m\n\u001b[0m\u001b[1;32m    129\u001b[0m         )\n\u001b[1;32m    130\u001b[0m \u001b[0;34m\u001b[0m\u001b[0m\n",
      "\u001b[0;31mDataMissingError\u001b[0m: Required data for running fv3gfs not available. Try python -m fv3config.download_data or ensure_data_is_downloaded()"
     ]
    }
   ],
   "source": [
    "initial_rundir = './initial_rundir'\n",
    "fv3config.write_run_directory(initial_config, initial_rundir)\n",
    "shutil.copy('submit_job.sh', os.path.join(initial_rundir, 'submit_job.sh'));"
   ]
  },
  {
   "cell_type": "code",
   "execution_count": 10,
   "metadata": {},
   "outputs": [],
   "source": [
    "fv3config.ensure_data_is_downloaded()\n",
    "fv3config.write_run_directory(initial_config, initial_rundir)\n",
    "shutil.copy('submit_job.sh', os.path.join(initial_rundir, 'submit_job.sh'));"
   ]
  },
  {
   "cell_type": "markdown",
   "metadata": {},
   "source": [
    "#### Run model"
   ]
  },
  {
   "cell_type": "markdown",
   "metadata": {},
   "source": [
    "Because fv3config uses symlinks when writing a run directory, it is currently necessary to bind-mount the directory where fv3config stores its data if running from outside a docker container."
   ]
  },
  {
   "cell_type": "code",
   "execution_count": 11,
   "metadata": {},
   "outputs": [],
   "source": [
    "archive_mount = ['-v', f'{archive}:{archive}']\n",
    "run_model(initial_rundir, model_image, archive_mount)"
   ]
  },
  {
   "cell_type": "markdown",
   "metadata": {},
   "source": [
    "#### Configure a run to initialize from end of previous run"
   ]
  },
  {
   "cell_type": "code",
   "execution_count": 12,
   "metadata": {},
   "outputs": [],
   "source": [
    "ic_directory = os.path.abspath(os.path.join(initial_rundir, 'RESTART'))\n",
    "restart_config = deepcopy(initial_config)\n",
    "restart_config['initial_conditions'] = ic_directory\n",
    "restart_config['namelist']['fv_core_nml']['warm_start'] = True\n",
    "restart_config['namelist']['fv_core_nml']['external_ic'] = False\n",
    "restart_config['namelist']['fv_core_nml']['nggps_ic'] = False\n",
    "restart_config['namelist']['fv_core_nml']['make_nh'] = False\n",
    "restart_config['namelist']['fv_core_nml']['mountain'] = True\n",
    "restart_config['namelist']['fv_core_nml']['na_init'] = 0\n",
    "\n",
    "restart_rundir = './restart_rundir'\n",
    "fv3config.write_run_directory(restart_config, restart_rundir)\n",
    "shutil.copy('submit_job.sh', os.path.join(restart_rundir, 'submit_job.sh'));"
   ]
  },
  {
   "cell_type": "markdown",
   "metadata": {},
   "source": [
    "Again, because the initial conditions are symlinked, it is necessary to bind-mount the RESTART directory from the initial run:"
   ]
  },
  {
   "cell_type": "code",
   "execution_count": 13,
   "metadata": {},
   "outputs": [],
   "source": [
    "ic_mount = ['-v', f'{ic_directory}:{ic_directory}']\n",
    "run_model(initial_rundir, model_image, archive_mount + ic_mount)"
   ]
  },
  {
   "cell_type": "code",
   "execution_count": null,
   "metadata": {},
   "outputs": [],
   "source": []
  }
 ],
 "metadata": {
  "kernelspec": {
   "display_name": "Python 3",
   "language": "python",
   "name": "python3"
  },
  "language_info": {
   "codemirror_mode": {
    "name": "ipython",
    "version": 3
   },
   "file_extension": ".py",
   "mimetype": "text/x-python",
   "name": "python",
   "nbconvert_exporter": "python",
   "pygments_lexer": "ipython3",
   "version": "3.7.3"
  }
 },
 "nbformat": 4,
 "nbformat_minor": 4
}
